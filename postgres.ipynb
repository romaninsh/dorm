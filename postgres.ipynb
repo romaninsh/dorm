{
 "cells": [
  {
   "cell_type": "code",
   "execution_count": 3,
   "id": "f05668f5-a1fc-4100-92f4-62cb68834493",
   "metadata": {},
   "outputs": [],
   "source": [
    ":dep tokio-postgres"
   ]
  },
  {
   "cell_type": "code",
   "execution_count": 4,
   "id": "687d4ec5-9fd1-4139-b9f7-6501e105edd3",
   "metadata": {},
   "outputs": [],
   "source": [
    "use tokio_postgres::{NoTls, Error};"
   ]
  },
  {
   "cell_type": "code",
   "execution_count": 6,
   "id": "f2576462-1a64-434c-a169-fff5dffa69ad",
   "metadata": {},
   "outputs": [],
   "source": [
    "let (client, connection) =\n",
    "        tokio_postgres::connect(\"host=localhost dbname=postgres\", NoTls).await?;\n",
    "\n",
    "    // The connection object performs the actual communication with the database,\n",
    "    // so spawn it off to run on its own.\n",
    "    tokio::spawn(async move {\n",
    "        if let Err(e) = connection.await {\n",
    "            eprintln!(\"connection error: {}\", e);\n",
    "        }\n",
    "    });"
   ]
  },
  {
   "cell_type": "code",
   "execution_count": 10,
   "id": "d77d3e99-e699-4712-9eff-656e2317c9d0",
   "metadata": {},
   "outputs": [],
   "source": [
    "    let rows = client\n",
    "        .query(\"SELECT $1::TEXT\", &[&\"hello world\"])\n",
    "        .await?;"
   ]
  },
  {
   "cell_type": "code",
   "execution_count": 18,
   "id": "0528c054-de51-47c5-860f-06c26ac1eda9",
   "metadata": {},
   "outputs": [],
   "source": [
    "   let a = rows[0].get::<usize, String>(0);\n"
   ]
  },
  {
   "cell_type": "code",
   "execution_count": 19,
   "id": "d4d2a84e-f335-4020-89da-73cf6215de73",
   "metadata": {},
   "outputs": [
    {
     "data": {
      "text/plain": [
       "\"hello world\""
      ]
     },
     "execution_count": 19,
     "metadata": {},
     "output_type": "execute_result"
    }
   ],
   "source": [
    "a"
   ]
  }
 ],
 "metadata": {
  "kernelspec": {
   "display_name": "Rust",
   "language": "rust",
   "name": "rust"
  },
  "language_info": {
   "codemirror_mode": "rust",
   "file_extension": ".rs",
   "mimetype": "text/rust",
   "name": "Rust",
   "pygment_lexer": "rust",
   "version": ""
  }
 },
 "nbformat": 4,
 "nbformat_minor": 5
}
