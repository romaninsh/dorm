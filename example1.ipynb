{
 "cells": [
  {
   "cell_type": "code",
   "execution_count": 2,
   "id": "38d335cc-e133-4882-bfee-1d4927e907f6",
   "metadata": {
    "scrolled": true
   },
   "outputs": [],
   "source": [
    ":dep dorm = { path = \"/Users/romans.malinovskis/Work/grafana/dorm\" }\n",
    ":dep tokio-postgres\n",
    ":dep serde_json"
   ]
  },
  {
   "cell_type": "code",
   "execution_count": 11,
   "id": "e5527c66-e84e-43bc-8bc4-14799594f61a",
   "metadata": {},
   "outputs": [],
   "source": [
    "use tokio_postgres::{Error, NoTls};\n",
    "use std::sync::Arc;\n",
    "use dorm::prelude::*;"
   ]
  },
  {
   "cell_type": "code",
   "execution_count": 12,
   "id": "9c5d4020-71b9-4050-92c0-4ae86995f26e",
   "metadata": {},
   "outputs": [],
   "source": [
    "let (client, connection) = tokio_postgres::connect(\"host=localhost dbname=postgres\", NoTls).await?;\n",
    "    tokio::spawn(async move {\n",
    "        if let Err(e) = connection.await {\n",
    "            eprintln!(\"connection error: {}\", e);\n",
    "        }\n",
    "    });\n"
   ]
  },
  {
   "cell_type": "code",
   "execution_count": null,
   "id": "1d4cf889-ca8a-4734-9e6c-50cd90168694",
   "metadata": {},
   "outputs": [],
   "source": [
    "let postgres = Postgres::new(Arc::new(Box::new(client)));"
   ]
  },
  {
   "cell_type": "markdown",
   "id": "11838040-f156-4cd5-8a70-b8e070ba153a",
   "metadata": {},
   "source": [
    "# Welcome to DORM\n",
    "\n",
    "At this point you have created a Datasource (postgres) which can then be used for creating expressions, queries, tables and your custom resources. Lets start with a simple expression.\n"
   ]
  },
  {
   "cell_type": "code",
   "execution_count": 13,
   "id": "3124d398-37c1-4ea7-8614-b2a4ee26601a",
   "metadata": {},
   "outputs": [],
   "source": [
    "let sum = expr!(\"{}::integer + {}::integer\", 2, 2);"
   ]
  },
  {
   "cell_type": "code",
   "execution_count": 14,
   "id": "205a7b53-7aaf-4248-998f-5fc65729b5b9",
   "metadata": {},
   "outputs": [],
   "source": [
    "let query = Query::new().add_column(\"sum\".to_string(), sum);"
   ]
  },
  {
   "cell_type": "code",
   "execution_count": null,
   "id": "08a54890-c4f0-4b88-bca8-0fdb03a4cfea",
   "metadata": {},
   "outputs": [],
   "source": [
    "postgres.query_raw(&query).await\n"
   ]
  },
  {
   "cell_type": "code",
   "execution_count": null,
   "id": "773dbfc6-75ef-4bb9-b7a7-e1838e5eeeef",
   "metadata": {},
   "outputs": [],
   "source": []
  }
 ],
 "metadata": {
  "kernelspec": {
   "display_name": "Rust",
   "language": "rust",
   "name": "rust"
  },
  "language_info": {
   "codemirror_mode": "rust",
   "file_extension": ".rs",
   "mimetype": "text/rust",
   "name": "Rust",
   "pygment_lexer": "rust",
   "version": ""
  }
 },
 "nbformat": 4,
 "nbformat_minor": 5
}
